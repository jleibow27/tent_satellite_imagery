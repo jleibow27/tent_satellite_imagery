{
 "cells": [
  {
   "cell_type": "code",
   "execution_count": 12,
   "metadata": {},
   "outputs": [],
   "source": [
    "import glob\n",
    "import pandas as pd\n",
    "import xml.etree.ElementTree as ET"
   ]
  },
  {
   "cell_type": "code",
   "execution_count": 16,
   "metadata": {},
   "outputs": [],
   "source": [
    "def xml_to_csv(path):\n",
    "    xml_list = []\n",
    "    for xml_file in glob.glob(path + '/*.xml'):\n",
    "        tree = ET.parse(xml_file)\n",
    "        root = tree.getroot()\n",
    "        for member in root.findall('object'):\n",
    "            value = (root.find('filename').text,\n",
    "                    int(root.find('size')[0].text),\n",
    "                    int(root.find('size')[1].text),\n",
    "                    member[0].text,\n",
    "                    int(member[4][0].text),\n",
    "                    int(member[4][1].text),\n",
    "                    int(member[4][2].text),\n",
    "                    int(member[4][3].text)\n",
    "                    )\n",
    "            xml_list.append(value)\n",
    "    column_name = ['filename', 'width', 'height',\n",
    "                'class', 'xmin', 'ymin', 'xmax', 'ymax']\n",
    "    xml_df = pd.DataFrame(xml_list, columns=column_name)\n",
    "    return xml_df"
   ]
  },
  {
   "cell_type": "code",
   "execution_count": 34,
   "metadata": {},
   "outputs": [],
   "source": [
    "train = xml_to_csv('./tents/train/annotations')"
   ]
  },
  {
   "cell_type": "code",
   "execution_count": 50,
   "metadata": {},
   "outputs": [],
   "source": [
    "train.to_csv('./data/train.csv')"
   ]
  },
  {
   "cell_type": "code",
   "execution_count": 51,
   "metadata": {},
   "outputs": [
    {
     "data": {
      "text/html": [
       "<div>\n",
       "<style scoped>\n",
       "    .dataframe tbody tr th:only-of-type {\n",
       "        vertical-align: middle;\n",
       "    }\n",
       "\n",
       "    .dataframe tbody tr th {\n",
       "        vertical-align: top;\n",
       "    }\n",
       "\n",
       "    .dataframe thead th {\n",
       "        text-align: right;\n",
       "    }\n",
       "</style>\n",
       "<table border=\"1\" class=\"dataframe\">\n",
       "  <thead>\n",
       "    <tr style=\"text-align: right;\">\n",
       "      <th></th>\n",
       "      <th>filename</th>\n",
       "      <th>width</th>\n",
       "      <th>height</th>\n",
       "      <th>class</th>\n",
       "      <th>xmin</th>\n",
       "      <th>ymin</th>\n",
       "      <th>xmax</th>\n",
       "      <th>ymax</th>\n",
       "    </tr>\n",
       "  </thead>\n",
       "  <tbody>\n",
       "    <tr>\n",
       "      <td>0</td>\n",
       "      <td>image7.png</td>\n",
       "      <td>2358</td>\n",
       "      <td>1350</td>\n",
       "      <td>tent</td>\n",
       "      <td>998</td>\n",
       "      <td>433</td>\n",
       "      <td>1050</td>\n",
       "      <td>479</td>\n",
       "    </tr>\n",
       "    <tr>\n",
       "      <td>1</td>\n",
       "      <td>image7.png</td>\n",
       "      <td>2358</td>\n",
       "      <td>1350</td>\n",
       "      <td>tent</td>\n",
       "      <td>879</td>\n",
       "      <td>136</td>\n",
       "      <td>926</td>\n",
       "      <td>204</td>\n",
       "    </tr>\n",
       "    <tr>\n",
       "      <td>2</td>\n",
       "      <td>image7.png</td>\n",
       "      <td>2358</td>\n",
       "      <td>1350</td>\n",
       "      <td>tent</td>\n",
       "      <td>929</td>\n",
       "      <td>153</td>\n",
       "      <td>958</td>\n",
       "      <td>188</td>\n",
       "    </tr>\n",
       "    <tr>\n",
       "      <td>3</td>\n",
       "      <td>image7.png</td>\n",
       "      <td>2358</td>\n",
       "      <td>1350</td>\n",
       "      <td>tent</td>\n",
       "      <td>707</td>\n",
       "      <td>144</td>\n",
       "      <td>798</td>\n",
       "      <td>205</td>\n",
       "    </tr>\n",
       "    <tr>\n",
       "      <td>4</td>\n",
       "      <td>image7.png</td>\n",
       "      <td>2358</td>\n",
       "      <td>1350</td>\n",
       "      <td>tent</td>\n",
       "      <td>715</td>\n",
       "      <td>683</td>\n",
       "      <td>785</td>\n",
       "      <td>753</td>\n",
       "    </tr>\n",
       "  </tbody>\n",
       "</table>\n",
       "</div>"
      ],
      "text/plain": [
       "     filename  width  height class  xmin  ymin  xmax  ymax\n",
       "0  image7.png   2358    1350  tent   998   433  1050   479\n",
       "1  image7.png   2358    1350  tent   879   136   926   204\n",
       "2  image7.png   2358    1350  tent   929   153   958   188\n",
       "3  image7.png   2358    1350  tent   707   144   798   205\n",
       "4  image7.png   2358    1350  tent   715   683   785   753"
      ]
     },
     "execution_count": 51,
     "metadata": {},
     "output_type": "execute_result"
    }
   ],
   "source": [
    "train.head()"
   ]
  },
  {
   "cell_type": "code",
   "execution_count": 41,
   "metadata": {},
   "outputs": [
    {
     "data": {
      "text/plain": [
       "(215, 8)"
      ]
     },
     "execution_count": 41,
     "metadata": {},
     "output_type": "execute_result"
    }
   ],
   "source": [
    "train.shape"
   ]
  },
  {
   "cell_type": "code",
   "execution_count": 38,
   "metadata": {},
   "outputs": [
    {
     "data": {
      "text/plain": [
       "array(['image7.png', 'image5.png', 'image1.png', 'image3.png'],\n",
       "      dtype=object)"
      ]
     },
     "execution_count": 38,
     "metadata": {},
     "output_type": "execute_result"
    }
   ],
   "source": [
    "train['filename'].unique()"
   ]
  },
  {
   "cell_type": "code",
   "execution_count": 49,
   "metadata": {},
   "outputs": [],
   "source": [
    "import csv\n",
    "import xml.etree.cElementTree as ET\n",
    "\n",
    "def csv_to_xml(csv_path, resized_images_path, labels_path, folder):\n",
    "    f = open(csv_path, 'r')\n",
    "    reader = csv.reader(f)\n",
    "    header = next(reader)\n",
    "    old_filename = None\n",
    "    for row in reader:\n",
    "        filename = row[0]\n",
    "        if filename == old_filename:\n",
    "            object = ET.SubElement(annotation, 'object')\n",
    "            ET.SubElement(object, 'name').text = row[3]\n",
    "            ET.SubElement(object, 'pose').text = 'Unspecified'\n",
    "            ET.SubElement(object, 'truncated').text = '0'\n",
    "            ET.SubElement(object, 'difficult').text = '0'\n",
    "            bndbox = ET.SubElement(object, 'bndbox')\n",
    "            ET.SubElement(bndbox, 'xmin').text = row[4]\n",
    "            ET.SubElement(bndbox, 'ymin').text = row[5]\n",
    "            ET.SubElement(bndbox, 'xmax').text = row[6]\n",
    "            ET.SubElement(bndbox, 'ymax').text = row[7]\n",
    "        else:\n",
    "            if old_filename is not None:\n",
    "                labels_file = old_filename.replace('.jpg', '.xml')\n",
    "                tree = ET.ElementTree(annotation)\n",
    "                tree.write(labels_path + labels_file)\n",
    "\n",
    "            annotation = ET.Element('annotation')\n",
    "            ET.SubElement(annotation, 'folder').text = folder\n",
    "            ET.SubElement(annotation, 'filename').text = filename\n",
    "            ET.SubElement(annotation, 'path').text =     resized_images_path + filename\n",
    "            source = ET.SubElement(annotation, 'source')\n",
    "            ET.SubElement(source, 'database').text = 'Unknown'\n",
    "            size = ET.SubElement(annotation, 'size')\n",
    "            ET.SubElement(size, 'width').text = row[1]\n",
    "            ET.SubElement(size, 'height').text = row[2]\n",
    "            ET.SubElement(size, 'depth').text = '3'\n",
    "            ET.SubElement(annotation, 'segmented').text = '0'\n",
    "            \n",
    "            object = ET.SubElement(annotation, 'object')\n",
    "            ET.SubElement(object, 'name').text = row[3]\n",
    "            ET.SubElement(object, 'pose').text = 'Unspecified'\n",
    "            ET.SubElement(object, 'truncated').text = '0'\n",
    "            ET.SubElement(object, 'difficult').text = '0'\n",
    "            bndbox = ET.SubElement(object, 'bndbox')\n",
    "            ET.SubElement(bndbox, 'xmin').text = row[4]\n",
    "            ET.SubElement(bndbox, 'ymin').text = row[5]\n",
    "            ET.SubElement(bndbox, 'xmax').text = row[6]\n",
    "            ET.SubElement(bndbox, 'ymax').text = row[7]\n",
    "        old_filename = filename\n",
    "    f.close()"
   ]
  },
  {
   "cell_type": "code",
   "execution_count": 53,
   "metadata": {},
   "outputs": [],
   "source": [
    "from imgaug.augmentables.bbs import BoundingBoxesOnImage\n",
    "from imgaug import augmenters as iaa\n",
    "\n",
    "aug = iaa.SomeOf(2, [\n",
    "    iaa.Affine(scale=(0.5, 1.5)),\n",
    "    iaa.Affine(rotate=(-60, 60)),\n",
    "    iaa.Affine(translate_percent={\"x\": (-0.3, 0.3), \"y\": (-0.3,   0.3)}),\n",
    "    iaa.Fliplr(1),\n",
    "    iaa.Multiply((0.5, 1.5)),\n",
    "    iaa.GaussianBlur(sigma=(1.0, 3.0)),\n",
    "    iaa.AdditiveGaussianNoise(scale=(0.03 * 255, 0.05 * 255)),\n",
    "    iaa.Add((-25, 25)),\n",
    "    iaa.MotionBlur(k=15),\n",
    "    iaa.MultiplySaturation((0.5, 1.5)),\n",
    "    iaa.LogContrast(gain=(0.6, 1.4)),\n",
    "    iaa.Flipud(1)\n",
    "])"
   ]
  },
  {
   "cell_type": "code",
   "execution_count": 29,
   "metadata": {},
   "outputs": [
    {
     "ename": "NameError",
     "evalue": "name 'image_aug' is not defined",
     "output_type": "error",
     "traceback": [
      "\u001b[0;31m---------------------------------------------------------------------------\u001b[0m",
      "\u001b[0;31mNameError\u001b[0m                                 Traceback (most recent call last)",
      "\u001b[0;32m<ipython-input-29-29c55c6bdad5>\u001b[0m in \u001b[0;36m<module>\u001b[0;34m\u001b[0m\n\u001b[1;32m      2\u001b[0m     \u001b[0mxml_df\u001b[0m \u001b[0;34m=\u001b[0m \u001b[0mxml_to_csv\u001b[0m\u001b[0;34m(\u001b[0m\u001b[0;34m'labels_path/'\u001b[0m\u001b[0;34m)\u001b[0m\u001b[0;34m\u001b[0m\u001b[0;34m\u001b[0m\u001b[0m\n\u001b[1;32m      3\u001b[0m     \u001b[0;32mfor\u001b[0m \u001b[0mi\u001b[0m \u001b[0;32min\u001b[0m \u001b[0mrange\u001b[0m\u001b[0;34m(\u001b[0m\u001b[0;36m10\u001b[0m\u001b[0;34m)\u001b[0m\u001b[0;34m:\u001b[0m\u001b[0;34m\u001b[0m\u001b[0;34m\u001b[0m\u001b[0m\n\u001b[0;32m----> 4\u001b[0;31m         \u001b[0maugmented_images_df\u001b[0m \u001b[0;34m=\u001b[0m \u001b[0mimage_aug\u001b[0m\u001b[0;34m(\u001b[0m\u001b[0mxml_df\u001b[0m\u001b[0;34m,\u001b[0m \u001b[0;34m'resized_images/'\u001b[0m\u001b[0;34m,\u001b[0m \u001b[0;34m'resized_images/'\u001b[0m\u001b[0;34m,\u001b[0m \u001b[0;34m'aug{}_'\u001b[0m\u001b[0;34m.\u001b[0m\u001b[0mformat\u001b[0m\u001b[0;34m(\u001b[0m\u001b[0mi\u001b[0m\u001b[0;34m)\u001b[0m\u001b[0;34m,\u001b[0m \u001b[0maug\u001b[0m\u001b[0;34m)\u001b[0m\u001b[0;34m\u001b[0m\u001b[0;34m\u001b[0m\u001b[0m\n\u001b[0m\u001b[1;32m      5\u001b[0m         \u001b[0maugmented_images_df\u001b[0m\u001b[0;34m.\u001b[0m\u001b[0mto_csv\u001b[0m\u001b[0;34m(\u001b[0m\u001b[0;34m'aug{}_images.csv'\u001b[0m\u001b[0;34m.\u001b[0m\u001b[0mformat\u001b[0m\u001b[0;34m(\u001b[0m\u001b[0mi\u001b[0m\u001b[0;34m)\u001b[0m\u001b[0;34m,\u001b[0m \u001b[0mindex\u001b[0m\u001b[0;34m=\u001b[0m\u001b[0;32mFalse\u001b[0m\u001b[0;34m)\u001b[0m\u001b[0;34m\u001b[0m\u001b[0;34m\u001b[0m\u001b[0m\n\u001b[1;32m      6\u001b[0m         csv_to_xml(csv_path='aug{}_images.csv'.format(i),\n",
      "\u001b[0;31mNameError\u001b[0m: name 'image_aug' is not defined"
     ]
    }
   ],
   "source": [
    "if __name__ == '__main__':\n",
    "    xml_df = xml_to_csv('labels_path/')\n",
    "    for i in range(10):\n",
    "        augmented_images_df = image_aug(xml_df, 'resized_images/', 'resized_images/', 'aug{}_'.format(i), aug)\n",
    "        augmented_images_df.to_csv('aug{}_images.csv'.format(i), index=False)\n",
    "        csv_to_xml(csv_path='aug{}_images.csv'.format(i),\n",
    "                   resized_images_path='resized_images/', \n",
    "                   labels_path='labels_path/',\n",
    "                   folder='resized_images')\n",
    "        os.remove('aug{}_images.csv'.format(i))"
   ]
  },
  {
   "cell_type": "code",
   "execution_count": 30,
   "metadata": {},
   "outputs": [
    {
     "ename": "FileNotFoundError",
     "evalue": "[Errno 2] No such file or directory: 'resized_images/'",
     "output_type": "error",
     "traceback": [
      "\u001b[0;31m---------------------------------------------------------------------------\u001b[0m",
      "\u001b[0;31mFileNotFoundError\u001b[0m                         Traceback (most recent call last)",
      "\u001b[0;32m<ipython-input-30-3ac719ee173b>\u001b[0m in \u001b[0;36m<module>\u001b[0;34m\u001b[0m\n\u001b[1;32m      9\u001b[0m \u001b[0;34m\u001b[0m\u001b[0m\n\u001b[1;32m     10\u001b[0m \u001b[0;34m\u001b[0m\u001b[0m\n\u001b[0;32m---> 11\u001b[0;31m \u001b[0;32mfor\u001b[0m \u001b[0mimage_file\u001b[0m \u001b[0;32min\u001b[0m \u001b[0mos\u001b[0m\u001b[0;34m.\u001b[0m\u001b[0mlistdir\u001b[0m\u001b[0;34m(\u001b[0m\u001b[0mimages_path\u001b[0m\u001b[0;34m)\u001b[0m\u001b[0;34m:\u001b[0m\u001b[0;34m\u001b[0m\u001b[0;34m\u001b[0m\u001b[0m\n\u001b[0m\u001b[1;32m     12\u001b[0m     \u001b[0mlabels_file\u001b[0m \u001b[0;34m=\u001b[0m \u001b[0mimage_file\u001b[0m\u001b[0;34m.\u001b[0m\u001b[0mreplace\u001b[0m\u001b[0;34m(\u001b[0m\u001b[0;34m'.jpg'\u001b[0m\u001b[0;34m,\u001b[0m \u001b[0;34m'.xml'\u001b[0m\u001b[0;34m)\u001b[0m\u001b[0;34m\u001b[0m\u001b[0;34m\u001b[0m\u001b[0m\n\u001b[1;32m     13\u001b[0m     \u001b[0;32mif\u001b[0m \u001b[0mrandom\u001b[0m\u001b[0;34m.\u001b[0m\u001b[0muniform\u001b[0m\u001b[0;34m(\u001b[0m\u001b[0;36m0\u001b[0m\u001b[0;34m,\u001b[0m \u001b[0;36m1\u001b[0m\u001b[0;34m)\u001b[0m \u001b[0;34m>\u001b[0m \u001b[0;36m0.2\u001b[0m\u001b[0;34m:\u001b[0m\u001b[0;34m\u001b[0m\u001b[0;34m\u001b[0m\u001b[0m\n",
      "\u001b[0;31mFileNotFoundError\u001b[0m: [Errno 2] No such file or directory: 'resized_images/'"
     ]
    }
   ],
   "source": [
    "import os\n",
    "import shutil\n",
    "import random\n",
    "\n",
    "images_path = 'resized_images/'\n",
    "labels_path = 'labels/'\n",
    "train_path = 'dataset/train/'\n",
    "validation_path = 'dataset/validation/'\n",
    "\n",
    "\n",
    "for image_file in os.listdir(images_path):\n",
    "    labels_file = image_file.replace('.jpg', '.xml')\n",
    "    if random.uniform(0, 1) > 0.2:\n",
    "        shutil.copy(images_path + image_file, train_path + 'images/'\n",
    "                    + image_file)\n",
    "        shutil.copy(labels_path + labels_file, train_path +\n",
    "                    'annotations/' + labels_file)\n",
    "    else:\n",
    "        shutil.copy(images_path + image_file, validation_path +\n",
    "                    'images/' + image_file)\n",
    "        shutil.copy(labels_path + labels_file, validation_path +\n",
    "                    'annotations/' + labels_file)"
   ]
  },
  {
   "cell_type": "code",
   "execution_count": null,
   "metadata": {},
   "outputs": [],
   "source": [
    "from imageai.Detection.Custom import DetectionModelTrainer\n",
    "\n",
    "trainer = DetectionModelTrainer()\n",
    "trainer.setModelTypeAsYOLOv3()\n",
    "trainer.setDataDirectory(data_directory=\"your_dataset_path\")\n",
    "trainer.setTrainConfig(object_names_array=[\"obj1\", \"obj2\"], batch_size=16, num_experiments=200, train_from_pretrained_model=\"pretrained-yolov3.h5\")\n",
    "trainer.trainModel()"
   ]
  },
  {
   "cell_type": "code",
   "execution_count": 31,
   "metadata": {},
   "outputs": [
    {
     "ename": "FileNotFoundError",
     "evalue": "[Errno 2] No such file or directory: 'dataset/json/detection_config.json'",
     "output_type": "error",
     "traceback": [
      "\u001b[0;31m---------------------------------------------------------------------------\u001b[0m",
      "\u001b[0;31mFileNotFoundError\u001b[0m                         Traceback (most recent call last)",
      "\u001b[0;32m<ipython-input-31-7b8134451dbf>\u001b[0m in \u001b[0;36m<module>\u001b[0;34m\u001b[0m\n\u001b[1;32m      4\u001b[0m \u001b[0mtrainer\u001b[0m\u001b[0;34m.\u001b[0m\u001b[0msetModelTypeAsYOLOv3\u001b[0m\u001b[0;34m(\u001b[0m\u001b[0;34m)\u001b[0m\u001b[0;34m\u001b[0m\u001b[0;34m\u001b[0m\u001b[0m\n\u001b[1;32m      5\u001b[0m \u001b[0mtrainer\u001b[0m\u001b[0;34m.\u001b[0m\u001b[0msetDataDirectory\u001b[0m\u001b[0;34m(\u001b[0m\u001b[0mdata_directory\u001b[0m\u001b[0;34m=\u001b[0m\u001b[0;34m\"dataset\"\u001b[0m\u001b[0;34m)\u001b[0m\u001b[0;34m\u001b[0m\u001b[0;34m\u001b[0m\u001b[0m\n\u001b[0;32m----> 6\u001b[0;31m \u001b[0mmetrics\u001b[0m \u001b[0;34m=\u001b[0m \u001b[0mtrainer\u001b[0m\u001b[0;34m.\u001b[0m\u001b[0mevaluateModel\u001b[0m\u001b[0;34m(\u001b[0m\u001b[0mmodel_path\u001b[0m\u001b[0;34m=\u001b[0m\u001b[0;34m\"dataset/models\"\u001b[0m\u001b[0;34m,\u001b[0m \u001b[0mjson_path\u001b[0m\u001b[0;34m=\u001b[0m\u001b[0;34m\"dataset/json/detection_config.json\"\u001b[0m\u001b[0;34m,\u001b[0m \u001b[0miou_threshold\u001b[0m\u001b[0;34m=\u001b[0m\u001b[0;36m0.5\u001b[0m\u001b[0;34m,\u001b[0m \u001b[0mobject_threshold\u001b[0m\u001b[0;34m=\u001b[0m\u001b[0;36m0.9\u001b[0m\u001b[0;34m,\u001b[0m \u001b[0mnms_threshold\u001b[0m\u001b[0;34m=\u001b[0m\u001b[0;36m0.5\u001b[0m\u001b[0;34m)\u001b[0m\u001b[0;34m\u001b[0m\u001b[0;34m\u001b[0m\u001b[0m\n\u001b[0m",
      "\u001b[0;32m~/anaconda3/lib/python3.7/site-packages/imageai/Detection/Custom/__init__.py\u001b[0m in \u001b[0;36mevaluateModel\u001b[0;34m(self, model_path, json_path, batch_size, iou_threshold, object_threshold, nms_threshold)\u001b[0m\n\u001b[1;32m    314\u001b[0m \u001b[0;34m\u001b[0m\u001b[0m\n\u001b[1;32m    315\u001b[0m         \u001b[0mself\u001b[0m\u001b[0;34m.\u001b[0m\u001b[0m__training_mode\u001b[0m \u001b[0;34m=\u001b[0m \u001b[0;32mFalse\u001b[0m\u001b[0;34m\u001b[0m\u001b[0;34m\u001b[0m\u001b[0m\n\u001b[0;32m--> 316\u001b[0;31m         \u001b[0mdetection_model_json\u001b[0m \u001b[0;34m=\u001b[0m \u001b[0mjson\u001b[0m\u001b[0;34m.\u001b[0m\u001b[0mload\u001b[0m\u001b[0;34m(\u001b[0m\u001b[0mopen\u001b[0m\u001b[0;34m(\u001b[0m\u001b[0mjson_path\u001b[0m\u001b[0;34m)\u001b[0m\u001b[0;34m)\u001b[0m\u001b[0;34m\u001b[0m\u001b[0;34m\u001b[0m\u001b[0m\n\u001b[0m\u001b[1;32m    317\u001b[0m \u001b[0;34m\u001b[0m\u001b[0m\n\u001b[1;32m    318\u001b[0m         \u001b[0mtemp_anchor_array\u001b[0m \u001b[0;34m=\u001b[0m \u001b[0;34m[\u001b[0m\u001b[0;34m]\u001b[0m\u001b[0;34m\u001b[0m\u001b[0;34m\u001b[0m\u001b[0m\n",
      "\u001b[0;31mFileNotFoundError\u001b[0m: [Errno 2] No such file or directory: 'dataset/json/detection_config.json'"
     ]
    }
   ],
   "source": [
    "from imageai.Detection.Custom import DetectionModelTrainer\n",
    "\n",
    "trainer = DetectionModelTrainer()\n",
    "trainer.setModelTypeAsYOLOv3()\n",
    "trainer.setDataDirectory(data_directory=\"dataset\")\n",
    "metrics = trainer.evaluateModel(model_path=\"dataset/models\", json_path=\"dataset/json/detection_config.json\", iou_threshold=0.5, object_threshold=0.9, nms_threshold=0.5)"
   ]
  },
  {
   "cell_type": "code",
   "execution_count": 32,
   "metadata": {},
   "outputs": [
    {
     "ename": "FileNotFoundError",
     "evalue": "[Errno 2] No such file or directory: 'detection_config.json'",
     "output_type": "error",
     "traceback": [
      "\u001b[0;31m---------------------------------------------------------------------------\u001b[0m",
      "\u001b[0;31mFileNotFoundError\u001b[0m                         Traceback (most recent call last)",
      "\u001b[0;32m<ipython-input-32-79a6009b2734>\u001b[0m in \u001b[0;36m<module>\u001b[0;34m\u001b[0m\n\u001b[1;32m      5\u001b[0m \u001b[0mdetector\u001b[0m\u001b[0;34m.\u001b[0m\u001b[0msetModelPath\u001b[0m\u001b[0;34m(\u001b[0m\u001b[0;34m\"detection_model-ex-006--loss-0024.905.h5\"\u001b[0m\u001b[0;34m)\u001b[0m\u001b[0;34m\u001b[0m\u001b[0;34m\u001b[0m\u001b[0m\n\u001b[1;32m      6\u001b[0m \u001b[0mdetector\u001b[0m\u001b[0;34m.\u001b[0m\u001b[0msetJsonPath\u001b[0m\u001b[0;34m(\u001b[0m\u001b[0;34m\"detection_config.json\"\u001b[0m\u001b[0;34m)\u001b[0m\u001b[0;34m\u001b[0m\u001b[0;34m\u001b[0m\u001b[0m\n\u001b[0;32m----> 7\u001b[0;31m \u001b[0mdetector\u001b[0m\u001b[0;34m.\u001b[0m\u001b[0mloadModel\u001b[0m\u001b[0;34m(\u001b[0m\u001b[0;34m)\u001b[0m\u001b[0;34m\u001b[0m\u001b[0;34m\u001b[0m\u001b[0m\n\u001b[0m\u001b[1;32m      8\u001b[0m \u001b[0mdetections\u001b[0m \u001b[0;34m=\u001b[0m \u001b[0mdetector\u001b[0m\u001b[0;34m.\u001b[0m\u001b[0mdetectObjectsFromImage\u001b[0m\u001b[0;34m(\u001b[0m\u001b[0minput_image\u001b[0m\u001b[0;34m=\u001b[0m\u001b[0;34m\"ima.jpg\"\u001b[0m\u001b[0;34m,\u001b[0m \u001b[0moutput_image_path\u001b[0m\u001b[0;34m=\u001b[0m\u001b[0;34m\"ima-detected.jpg\"\u001b[0m\u001b[0;34m,\u001b[0m \u001b[0mminimum_percentage_probability\u001b[0m\u001b[0;34m=\u001b[0m\u001b[0;36m90\u001b[0m\u001b[0;34m)\u001b[0m\u001b[0;34m\u001b[0m\u001b[0;34m\u001b[0m\u001b[0m\n",
      "\u001b[0;32m~/anaconda3/lib/python3.7/site-packages/imageai/Detection/Custom/__init__.py\u001b[0m in \u001b[0;36mloadModel\u001b[0;34m(self)\u001b[0m\n\u001b[1;32m    640\u001b[0m \u001b[0;34m\u001b[0m\u001b[0m\n\u001b[1;32m    641\u001b[0m         \u001b[0;32mif\u001b[0m \u001b[0mself\u001b[0m\u001b[0;34m.\u001b[0m\u001b[0m__model_type\u001b[0m \u001b[0;34m==\u001b[0m \u001b[0;34m\"yolov3\"\u001b[0m\u001b[0;34m:\u001b[0m\u001b[0;34m\u001b[0m\u001b[0;34m\u001b[0m\u001b[0m\n\u001b[0;32m--> 642\u001b[0;31m             \u001b[0mdetection_model_json\u001b[0m \u001b[0;34m=\u001b[0m \u001b[0mjson\u001b[0m\u001b[0;34m.\u001b[0m\u001b[0mload\u001b[0m\u001b[0;34m(\u001b[0m\u001b[0mopen\u001b[0m\u001b[0;34m(\u001b[0m\u001b[0mself\u001b[0m\u001b[0;34m.\u001b[0m\u001b[0m__detection_config_json_path\u001b[0m\u001b[0;34m)\u001b[0m\u001b[0;34m)\u001b[0m\u001b[0;34m\u001b[0m\u001b[0;34m\u001b[0m\u001b[0m\n\u001b[0m\u001b[1;32m    643\u001b[0m \u001b[0;34m\u001b[0m\u001b[0m\n\u001b[1;32m    644\u001b[0m             \u001b[0mself\u001b[0m\u001b[0;34m.\u001b[0m\u001b[0m__model_labels\u001b[0m \u001b[0;34m=\u001b[0m \u001b[0mdetection_model_json\u001b[0m\u001b[0;34m[\u001b[0m\u001b[0;34m\"labels\"\u001b[0m\u001b[0;34m]\u001b[0m\u001b[0;34m\u001b[0m\u001b[0;34m\u001b[0m\u001b[0m\n",
      "\u001b[0;31mFileNotFoundError\u001b[0m: [Errno 2] No such file or directory: 'detection_config.json'"
     ]
    }
   ],
   "source": [
    "from imageai.Detection.Custom import CustomObjectDetection\n",
    "\n",
    "detector = CustomObjectDetection()\n",
    "detector.setModelTypeAsYOLOv3()\n",
    "detector.setModelPath(\"detection_model-ex-006--loss-0024.905.h5\")\n",
    "detector.setJsonPath(\"detection_config.json\")\n",
    "detector.loadModel()\n",
    "detections = detector.detectObjectsFromImage(input_image=\"ima.jpg\", output_image_path=\"ima-detected.jpg\", minimum_percentage_probability=90)"
   ]
  },
  {
   "cell_type": "code",
   "execution_count": null,
   "metadata": {},
   "outputs": [],
   "source": []
  },
  {
   "cell_type": "code",
   "execution_count": null,
   "metadata": {},
   "outputs": [],
   "source": []
  }
 ],
 "metadata": {
  "kernelspec": {
   "display_name": "Python 3",
   "language": "python",
   "name": "python3"
  },
  "language_info": {
   "codemirror_mode": {
    "name": "ipython",
    "version": 3
   },
   "file_extension": ".py",
   "mimetype": "text/x-python",
   "name": "python",
   "nbconvert_exporter": "python",
   "pygments_lexer": "ipython3",
   "version": "3.7.4"
  }
 },
 "nbformat": 4,
 "nbformat_minor": 2
}
