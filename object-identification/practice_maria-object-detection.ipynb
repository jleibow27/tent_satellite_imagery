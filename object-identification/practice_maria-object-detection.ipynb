{
 "cells": [
  {
   "cell_type": "code",
   "execution_count": 1,
   "metadata": {},
   "outputs": [],
   "source": [
    "import glob\n",
    "import pandas as pd\n",
    "import xml.etree.ElementTree as ET"
   ]
  },
  {
   "cell_type": "code",
   "execution_count": 2,
   "metadata": {},
   "outputs": [],
   "source": [
    "def xml_to_csv(path):\n",
    "    xml_list = []\n",
    "    for xml_file in glob.glob(path + '/*.xml'):\n",
    "        tree = ET.parse(xml_file)\n",
    "        root = tree.getroot()\n",
    "        for member in root.findall('object'):\n",
    "            value = (root.find('filename').text,\n",
    "                    int(root.find('size')[0].text),\n",
    "                    int(root.find('size')[1].text),\n",
    "                    member[0].text,\n",
    "                    int(member[4][0].text),\n",
    "                    int(member[4][1].text),\n",
    "                    int(member[4][2].text),\n",
    "                    int(member[4][3].text)\n",
    "                    )\n",
    "            xml_list.append(value)\n",
    "    column_name = ['filename', 'width', 'height',\n",
    "                'class', 'xmin', 'ymin', 'xmax', 'ymax']\n",
    "    xml_df = pd.DataFrame(xml_list, columns=column_name)\n",
    "    return xml_df"
   ]
  },
  {
   "cell_type": "code",
   "execution_count": 3,
   "metadata": {},
   "outputs": [],
   "source": [
    "train = xml_to_csv('./tents/train/annotations')"
   ]
  },
  {
   "cell_type": "code",
   "execution_count": 4,
   "metadata": {},
   "outputs": [],
   "source": [
    "train.to_csv('./data/train.csv')"
   ]
  },
  {
   "cell_type": "code",
   "execution_count": 5,
   "metadata": {},
   "outputs": [
    {
     "data": {
      "text/html": [
       "<div>\n",
       "<style scoped>\n",
       "    .dataframe tbody tr th:only-of-type {\n",
       "        vertical-align: middle;\n",
       "    }\n",
       "\n",
       "    .dataframe tbody tr th {\n",
       "        vertical-align: top;\n",
       "    }\n",
       "\n",
       "    .dataframe thead th {\n",
       "        text-align: right;\n",
       "    }\n",
       "</style>\n",
       "<table border=\"1\" class=\"dataframe\">\n",
       "  <thead>\n",
       "    <tr style=\"text-align: right;\">\n",
       "      <th></th>\n",
       "      <th>filename</th>\n",
       "      <th>width</th>\n",
       "      <th>height</th>\n",
       "      <th>class</th>\n",
       "      <th>xmin</th>\n",
       "      <th>ymin</th>\n",
       "      <th>xmax</th>\n",
       "      <th>ymax</th>\n",
       "    </tr>\n",
       "  </thead>\n",
       "  <tbody>\n",
       "    <tr>\n",
       "      <td>0</td>\n",
       "      <td>image7.png</td>\n",
       "      <td>2358</td>\n",
       "      <td>1350</td>\n",
       "      <td>tent</td>\n",
       "      <td>998</td>\n",
       "      <td>433</td>\n",
       "      <td>1050</td>\n",
       "      <td>479</td>\n",
       "    </tr>\n",
       "    <tr>\n",
       "      <td>1</td>\n",
       "      <td>image7.png</td>\n",
       "      <td>2358</td>\n",
       "      <td>1350</td>\n",
       "      <td>tent</td>\n",
       "      <td>879</td>\n",
       "      <td>136</td>\n",
       "      <td>926</td>\n",
       "      <td>204</td>\n",
       "    </tr>\n",
       "    <tr>\n",
       "      <td>2</td>\n",
       "      <td>image7.png</td>\n",
       "      <td>2358</td>\n",
       "      <td>1350</td>\n",
       "      <td>tent</td>\n",
       "      <td>929</td>\n",
       "      <td>153</td>\n",
       "      <td>958</td>\n",
       "      <td>188</td>\n",
       "    </tr>\n",
       "    <tr>\n",
       "      <td>3</td>\n",
       "      <td>image7.png</td>\n",
       "      <td>2358</td>\n",
       "      <td>1350</td>\n",
       "      <td>tent</td>\n",
       "      <td>707</td>\n",
       "      <td>144</td>\n",
       "      <td>798</td>\n",
       "      <td>205</td>\n",
       "    </tr>\n",
       "    <tr>\n",
       "      <td>4</td>\n",
       "      <td>image7.png</td>\n",
       "      <td>2358</td>\n",
       "      <td>1350</td>\n",
       "      <td>tent</td>\n",
       "      <td>715</td>\n",
       "      <td>683</td>\n",
       "      <td>785</td>\n",
       "      <td>753</td>\n",
       "    </tr>\n",
       "  </tbody>\n",
       "</table>\n",
       "</div>"
      ],
      "text/plain": [
       "     filename  width  height class  xmin  ymin  xmax  ymax\n",
       "0  image7.png   2358    1350  tent   998   433  1050   479\n",
       "1  image7.png   2358    1350  tent   879   136   926   204\n",
       "2  image7.png   2358    1350  tent   929   153   958   188\n",
       "3  image7.png   2358    1350  tent   707   144   798   205\n",
       "4  image7.png   2358    1350  tent   715   683   785   753"
      ]
     },
     "execution_count": 5,
     "metadata": {},
     "output_type": "execute_result"
    }
   ],
   "source": [
    "train.head()"
   ]
  },
  {
   "cell_type": "code",
   "execution_count": 6,
   "metadata": {},
   "outputs": [
    {
     "data": {
      "text/plain": [
       "(215, 8)"
      ]
     },
     "execution_count": 6,
     "metadata": {},
     "output_type": "execute_result"
    }
   ],
   "source": [
    "train.shape"
   ]
  },
  {
   "cell_type": "code",
   "execution_count": 7,
   "metadata": {},
   "outputs": [
    {
     "data": {
      "text/plain": [
       "array(['image7.png', 'image5.png', 'image1.png', 'image3.png'],\n",
       "      dtype=object)"
      ]
     },
     "execution_count": 7,
     "metadata": {},
     "output_type": "execute_result"
    }
   ],
   "source": [
    "train['filename'].unique()"
   ]
  },
  {
   "cell_type": "code",
   "execution_count": 10,
   "metadata": {},
   "outputs": [
    {
     "data": {
      "text/plain": [
       "not_tent    109\n",
       "tent        106\n",
       "Name: class, dtype: int64"
      ]
     },
     "execution_count": 10,
     "metadata": {},
     "output_type": "execute_result"
    }
   ],
   "source": [
    "train['class'].value_counts()"
   ]
  },
  {
   "cell_type": "code",
   "execution_count": 132,
   "metadata": {},
   "outputs": [],
   "source": [
    "import csv\n",
    "import xml.etree.cElementTree as ET\n",
    "\n",
    "def csv_to_xml(csv_path, resized_images_path, labels_path, folder):\n",
    "    f = open(csv_path, 'r')\n",
    "    reader = csv.reader(f)\n",
    "    header = next(reader)\n",
    "    old_filename = None\n",
    "    for row in reader:\n",
    "        filename = row[0]\n",
    "        if filename == old_filename:\n",
    "            object = ET.SubElement(annotation, 'object')\n",
    "            ET.SubElement(object, 'name').text = row[3]\n",
    "            ET.SubElement(object, 'pose').text = 'Unspecified'\n",
    "            ET.SubElement(object, 'truncated').text = '0'\n",
    "            ET.SubElement(object, 'difficult').text = '0'\n",
    "            bndbox = ET.SubElement(object, 'bndbox')\n",
    "            ET.SubElement(bndbox, 'xmin').text = row[4]\n",
    "            ET.SubElement(bndbox, 'ymin').text = row[5]\n",
    "            ET.SubElement(bndbox, 'xmax').text = row[6]\n",
    "            ET.SubElement(bndbox, 'ymax').text = row[7]\n",
    "        else:\n",
    "            if old_filename is not None:\n",
    "                labels_file = old_filename.replace('.jpg', '.xml')\n",
    "                tree = ET.ElementTree(annotation)\n",
    "                tree.write(labels_path + labels_file)\n",
    "\n",
    "            annotation = ET.Element('annotation')\n",
    "            ET.SubElement(annotation, 'folder').text = folder\n",
    "            ET.SubElement(annotation, 'filename').text = filename\n",
    "            ET.SubElement(annotation, 'path').text =     resized_images_path + filename\n",
    "            source = ET.SubElement(annotation, 'source')\n",
    "            ET.SubElement(source, 'database').text = 'Unknown'\n",
    "            size = ET.SubElement(annotation, 'size')\n",
    "            ET.SubElement(size, 'width').text = row[1]\n",
    "            ET.SubElement(size, 'height').text = row[2]\n",
    "            ET.SubElement(size, 'depth').text = '3'\n",
    "            ET.SubElement(annotation, 'segmented').text = '0'\n",
    "            \n",
    "            object = ET.SubElement(annotation, 'object')\n",
    "            ET.SubElement(object, 'name').text = row[3]\n",
    "            ET.SubElement(object, 'pose').text = 'Unspecified'\n",
    "            ET.SubElement(object, 'truncated').text = '0'\n",
    "            ET.SubElement(object, 'difficult').text = '0'\n",
    "            bndbox = ET.SubElement(object, 'bndbox')\n",
    "            ET.SubElement(bndbox, 'xmin').text = row[4]\n",
    "            ET.SubElement(bndbox, 'ymin').text = row[5]\n",
    "            ET.SubElement(bndbox, 'xmax').text = row[6]\n",
    "            ET.SubElement(bndbox, 'ymax').text = row[7]\n",
    "        old_filename = filename\n",
    "    f.close()"
   ]
  },
  {
   "cell_type": "code",
   "execution_count": 133,
   "metadata": {},
   "outputs": [],
   "source": [
    "# train_xml = csv_to_xml('./data/train.csv', './tents/train/images/', './tents/train/images/', '')"
   ]
  },
  {
   "cell_type": "code",
   "execution_count": 134,
   "metadata": {},
   "outputs": [],
   "source": [
    "from imgaug.augmentables.bbs import BoundingBoxesOnImage\n",
    "from imgaug import augmenters as iaa\n",
    "from PIL import Image\n",
    "import imageio\n",
    "import imgaug as ia\n",
    "import imgaug.augmenters as iaa\n",
    "from imgaug.augmentables import Keypoint, KeypointsOnImage"
   ]
  },
  {
   "cell_type": "code",
   "execution_count": 135,
   "metadata": {},
   "outputs": [],
   "source": [
    "# function to convert BoundingBoxesOnImage object into DataFrame\n",
    "def bbs_obj_to_df(bbs_object):\n",
    "#     convert BoundingBoxesOnImage object into array\n",
    "#     convert array into a DataFrame ['xmin', 'ymin', 'xmax', 'ymax'] columns\n",
    "    df_bbs = pd.DataFrame(bbs_array, columns=['xmin', 'ymin', 'xmax', 'ymax'])\n",
    "    return df_bbs"
   ]
  },
  {
   "cell_type": "code",
   "execution_count": 136,
   "metadata": {},
   "outputs": [],
   "source": [
    "def image_aug(df, images_path, aug_images_path, image_prefix, augmentor):\n",
    "    # create data frame which we're going to populate with augmented image info\n",
    "    aug_bbs_xy = pd.DataFrame(columns=\n",
    "                              ['filename','width','height','class', 'xmin', 'ymin', 'xmax', 'ymax']\n",
    "                             )\n",
    "    grouped = df.groupby('filename')\n",
    "    \n",
    "    for filename in df['filename'].unique():\n",
    "    #   get separate data frame grouped by file name\n",
    "        group_df = grouped.get_group(filename)\n",
    "        group_df = group_df.reset_index()\n",
    "        group_df = group_df.drop(['index'], axis=1)   \n",
    "    #   read the image\n",
    "        image = imageio.imread(images_path+filename)\n",
    "    #   get bounding boxes coordinates and write into array        \n",
    "        bb_array = group_df.drop(['filename', 'width', 'height', 'class'], axis=1).values\n",
    "    #   pass the array of bounding boxes coordinates to the imgaug library\n",
    "        bbs = BoundingBoxesOnImage.from_xyxy_array(bb_array, shape=image.shape)\n",
    "    #   apply augmentation on image and on the bounding boxes\n",
    "        image_aug, bbs_aug = augmentor(image=image, bounding_boxes=bbs)\n",
    "    #   disregard bounding boxes which have fallen out of image pane    \n",
    "        bbs_aug = bbs_aug.remove_out_of_image()\n",
    "    #   clip bounding boxes which are partially outside of image pane\n",
    "        bbs_aug = bbs_aug.clip_out_of_image()\n",
    "        \n",
    "    #   don't perform any actions with the image if there are no bounding boxes left in it    \n",
    "        if re.findall('Image...', str(bbs_aug)) == ['Image([]']:\n",
    "            pass\n",
    "        \n",
    "    #   otherwise continue\n",
    "        else:\n",
    "        #   write augmented image to a file\n",
    "            imageio.imwrite(aug_images_path+image_prefix+filename, image_aug)  \n",
    "        #   create a data frame with augmented values of image width and height\n",
    "            info_df = group_df.drop(['xmin', 'ymin', 'xmax', 'ymax'], axis=1)    \n",
    "            for index, _ in info_df.iterrows():\n",
    "                info_df.at[index, 'width'] = image_aug.shape[1]\n",
    "                info_df.at[index, 'height'] = image_aug.shape[0]\n",
    "        #   rename filenames by adding the predifined prefix\n",
    "            info_df['filename'] = info_df['filename'].apply(lambda x: image_prefix+x)\n",
    "        #   create a data frame with augmented bounding boxes coordinates using the function we created earlier\n",
    "            bbs_df = bbs_obj_to_df(bbs_aug)\n",
    "        #   concat all new augmented info into new data frame\n",
    "            aug_df = pd.concat([info_df, bbs_df], axis=1)\n",
    "        #   append rows to aug_bbs_xy data frame\n",
    "            aug_bbs_xy = pd.concat([aug_bbs_xy, aug_df])            \n",
    "    \n",
    "    # return dataframe with updated images and bounding boxes annotations \n",
    "    aug_bbs_xy = aug_bbs_xy.reset_index()\n",
    "    aug_bbs_xy = aug_bbs_xy.drop(['index'], axis=1)\n",
    "    return aug_bbs_xy"
   ]
  },
  {
   "cell_type": "code",
   "execution_count": 137,
   "metadata": {},
   "outputs": [],
   "source": [
    "aug = iaa.SomeOf(2, [\n",
    "    iaa.Affine(scale=(0.5, 1.5)),\n",
    "    iaa.Affine(rotate=(-60, 60)),\n",
    "    iaa.Affine(translate_percent={\"x\": (-0.3, 0.3), \"y\": (-0.3,   0.3)}),\n",
    "    iaa.Fliplr(1),\n",
    "    iaa.Multiply((0.5, 1.5)),\n",
    "    iaa.GaussianBlur(sigma=(1.0, 3.0)),\n",
    "    iaa.AdditiveGaussianNoise(scale=(0.03 * 255, 0.05 * 255)),\n",
    "    iaa.Add((-25, 25)),\n",
    "    iaa.MotionBlur(k=15),\n",
    "    iaa.MultiplySaturation((0.5, 1.5)),\n",
    "    iaa.LogContrast(gain=(0.6, 1.4)),\n",
    "    iaa.Flipud(1)\n",
    "])"
   ]
  },
  {
   "cell_type": "code",
   "execution_count": 138,
   "metadata": {},
   "outputs": [],
   "source": [
    "if __name__ == '__main__':\n",
    "    xml_df = xml_to_csv('./data/train.csv')\n",
    "    for i in range(10):\n",
    "        augmented_images_df = image_aug(xml_df, './tents/train/images/', './tents/train/images/', 'aug{}_'.format(i), aug)\n",
    "        augmented_images_df.to_csv('aug{}_images.csv'.format(i), index=False)\n",
    "        csv_to_xml(csv_path='aug{}_images.csv'.format(i),\n",
    "                   resized_images_path='./tents/train/images/', \n",
    "                   labels_path='data/train.csv',\n",
    "                   folder='./tents/train/images/')\n",
    "        os.remove('aug{}_images.csv'.format(i))"
   ]
  },
  {
   "cell_type": "code",
   "execution_count": 143,
   "metadata": {},
   "outputs": [
    {
     "ename": "SameFileError",
     "evalue": "'./tents/train/images/.DS_Store' and './tents/train/images/.DS_Store' are the same file",
     "output_type": "error",
     "traceback": [
      "\u001b[0;31m---------------------------------------------------------------------------\u001b[0m",
      "\u001b[0;31mSameFileError\u001b[0m                             Traceback (most recent call last)",
      "\u001b[0;32m<ipython-input-143-fa81f9c7303b>\u001b[0m in \u001b[0;36m<module>\u001b[0;34m\u001b[0m\n\u001b[1;32m     13\u001b[0m     \u001b[0;32mif\u001b[0m \u001b[0mrandom\u001b[0m\u001b[0;34m.\u001b[0m\u001b[0muniform\u001b[0m\u001b[0;34m(\u001b[0m\u001b[0;36m0\u001b[0m\u001b[0;34m,\u001b[0m \u001b[0;36m1\u001b[0m\u001b[0;34m)\u001b[0m \u001b[0;34m>\u001b[0m \u001b[0;36m0.2\u001b[0m\u001b[0;34m:\u001b[0m\u001b[0;34m\u001b[0m\u001b[0;34m\u001b[0m\u001b[0m\n\u001b[1;32m     14\u001b[0m         shutil.copy(images_path + image_file, train_path + 'images/'\n\u001b[0;32m---> 15\u001b[0;31m                     + image_file)\n\u001b[0m\u001b[1;32m     16\u001b[0m         shutil.copy(labels_path + labels_file, train_path +\n\u001b[1;32m     17\u001b[0m                     'annotations/' + labels_file)\n",
      "\u001b[0;32m~/anaconda3/lib/python3.7/shutil.py\u001b[0m in \u001b[0;36mcopy\u001b[0;34m(src, dst, follow_symlinks)\u001b[0m\n\u001b[1;32m    246\u001b[0m     \u001b[0;32mif\u001b[0m \u001b[0mos\u001b[0m\u001b[0;34m.\u001b[0m\u001b[0mpath\u001b[0m\u001b[0;34m.\u001b[0m\u001b[0misdir\u001b[0m\u001b[0;34m(\u001b[0m\u001b[0mdst\u001b[0m\u001b[0;34m)\u001b[0m\u001b[0;34m:\u001b[0m\u001b[0;34m\u001b[0m\u001b[0;34m\u001b[0m\u001b[0m\n\u001b[1;32m    247\u001b[0m         \u001b[0mdst\u001b[0m \u001b[0;34m=\u001b[0m \u001b[0mos\u001b[0m\u001b[0;34m.\u001b[0m\u001b[0mpath\u001b[0m\u001b[0;34m.\u001b[0m\u001b[0mjoin\u001b[0m\u001b[0;34m(\u001b[0m\u001b[0mdst\u001b[0m\u001b[0;34m,\u001b[0m \u001b[0mos\u001b[0m\u001b[0;34m.\u001b[0m\u001b[0mpath\u001b[0m\u001b[0;34m.\u001b[0m\u001b[0mbasename\u001b[0m\u001b[0;34m(\u001b[0m\u001b[0msrc\u001b[0m\u001b[0;34m)\u001b[0m\u001b[0;34m)\u001b[0m\u001b[0;34m\u001b[0m\u001b[0;34m\u001b[0m\u001b[0m\n\u001b[0;32m--> 248\u001b[0;31m     \u001b[0mcopyfile\u001b[0m\u001b[0;34m(\u001b[0m\u001b[0msrc\u001b[0m\u001b[0;34m,\u001b[0m \u001b[0mdst\u001b[0m\u001b[0;34m,\u001b[0m \u001b[0mfollow_symlinks\u001b[0m\u001b[0;34m=\u001b[0m\u001b[0mfollow_symlinks\u001b[0m\u001b[0;34m)\u001b[0m\u001b[0;34m\u001b[0m\u001b[0;34m\u001b[0m\u001b[0m\n\u001b[0m\u001b[1;32m    249\u001b[0m     \u001b[0mcopymode\u001b[0m\u001b[0;34m(\u001b[0m\u001b[0msrc\u001b[0m\u001b[0;34m,\u001b[0m \u001b[0mdst\u001b[0m\u001b[0;34m,\u001b[0m \u001b[0mfollow_symlinks\u001b[0m\u001b[0;34m=\u001b[0m\u001b[0mfollow_symlinks\u001b[0m\u001b[0;34m)\u001b[0m\u001b[0;34m\u001b[0m\u001b[0;34m\u001b[0m\u001b[0m\n\u001b[1;32m    250\u001b[0m     \u001b[0;32mreturn\u001b[0m \u001b[0mdst\u001b[0m\u001b[0;34m\u001b[0m\u001b[0;34m\u001b[0m\u001b[0m\n",
      "\u001b[0;32m~/anaconda3/lib/python3.7/shutil.py\u001b[0m in \u001b[0;36mcopyfile\u001b[0;34m(src, dst, follow_symlinks)\u001b[0m\n\u001b[1;32m    102\u001b[0m     \"\"\"\n\u001b[1;32m    103\u001b[0m     \u001b[0;32mif\u001b[0m \u001b[0m_samefile\u001b[0m\u001b[0;34m(\u001b[0m\u001b[0msrc\u001b[0m\u001b[0;34m,\u001b[0m \u001b[0mdst\u001b[0m\u001b[0;34m)\u001b[0m\u001b[0;34m:\u001b[0m\u001b[0;34m\u001b[0m\u001b[0;34m\u001b[0m\u001b[0m\n\u001b[0;32m--> 104\u001b[0;31m         \u001b[0;32mraise\u001b[0m \u001b[0mSameFileError\u001b[0m\u001b[0;34m(\u001b[0m\u001b[0;34m\"{!r} and {!r} are the same file\"\u001b[0m\u001b[0;34m.\u001b[0m\u001b[0mformat\u001b[0m\u001b[0;34m(\u001b[0m\u001b[0msrc\u001b[0m\u001b[0;34m,\u001b[0m \u001b[0mdst\u001b[0m\u001b[0;34m)\u001b[0m\u001b[0;34m)\u001b[0m\u001b[0;34m\u001b[0m\u001b[0;34m\u001b[0m\u001b[0m\n\u001b[0m\u001b[1;32m    105\u001b[0m \u001b[0;34m\u001b[0m\u001b[0m\n\u001b[1;32m    106\u001b[0m     \u001b[0;32mfor\u001b[0m \u001b[0mfn\u001b[0m \u001b[0;32min\u001b[0m \u001b[0;34m[\u001b[0m\u001b[0msrc\u001b[0m\u001b[0;34m,\u001b[0m \u001b[0mdst\u001b[0m\u001b[0;34m]\u001b[0m\u001b[0;34m:\u001b[0m\u001b[0;34m\u001b[0m\u001b[0;34m\u001b[0m\u001b[0m\n",
      "\u001b[0;31mSameFileError\u001b[0m: './tents/train/images/.DS_Store' and './tents/train/images/.DS_Store' are the same file"
     ]
    }
   ],
   "source": [
    "import os\n",
    "import shutil\n",
    "import random\n",
    "\n",
    "images_path = './tents/train/images/'\n",
    "labels_path = './data/train.csv'\n",
    "train_path = './tents/train/'\n",
    "validation_path = './tents/validation/'\n",
    "\n",
    "\n",
    "for image_file in os.listdir(images_path):\n",
    "    labels_file = image_file.replace('.jpg', '.xml')\n",
    "    if random.uniform(0, 1) > 0.2:\n",
    "        shutil.copy(images_path + image_file, train_path + 'images/'\n",
    "                    + image_file)\n",
    "        shutil.copy(labels_path + labels_file, train_path +\n",
    "                    'annotations/' + labels_file)\n",
    "    else:\n",
    "        shutil.copy(images_path + image_file, validation_path +\n",
    "                    'images/' + image_file)\n",
    "        shutil.copy(labels_path + labels_file, validation_path +\n",
    "                    'annotations/' + labels_file)"
   ]
  },
  {
   "cell_type": "code",
   "execution_count": 140,
   "metadata": {},
   "outputs": [
    {
     "name": "stdout",
     "output_type": "stream",
     "text": [
      "Generating anchor boxes for training images and annotation...\n"
     ]
    },
    {
     "ename": "FileNotFoundError",
     "evalue": "[Errno 2] No such file or directory: 'your_dataset_path/train/annotations'",
     "output_type": "error",
     "traceback": [
      "\u001b[0;31m---------------------------------------------------------------------------\u001b[0m",
      "\u001b[0;31mFileNotFoundError\u001b[0m                         Traceback (most recent call last)",
      "\u001b[0;32m<ipython-input-140-bedae9a85369>\u001b[0m in \u001b[0;36m<module>\u001b[0;34m\u001b[0m\n\u001b[1;32m      4\u001b[0m \u001b[0mtrainer\u001b[0m\u001b[0;34m.\u001b[0m\u001b[0msetModelTypeAsYOLOv3\u001b[0m\u001b[0;34m(\u001b[0m\u001b[0;34m)\u001b[0m\u001b[0;34m\u001b[0m\u001b[0;34m\u001b[0m\u001b[0m\n\u001b[1;32m      5\u001b[0m \u001b[0mtrainer\u001b[0m\u001b[0;34m.\u001b[0m\u001b[0msetDataDirectory\u001b[0m\u001b[0;34m(\u001b[0m\u001b[0mdata_directory\u001b[0m\u001b[0;34m=\u001b[0m\u001b[0;34m\"your_dataset_path\"\u001b[0m\u001b[0;34m)\u001b[0m\u001b[0;34m\u001b[0m\u001b[0;34m\u001b[0m\u001b[0m\n\u001b[0;32m----> 6\u001b[0;31m \u001b[0mtrainer\u001b[0m\u001b[0;34m.\u001b[0m\u001b[0msetTrainConfig\u001b[0m\u001b[0;34m(\u001b[0m\u001b[0mobject_names_array\u001b[0m\u001b[0;34m=\u001b[0m\u001b[0;34m[\u001b[0m\u001b[0;34m\"obj1\"\u001b[0m\u001b[0;34m,\u001b[0m \u001b[0;34m\"obj2\"\u001b[0m\u001b[0;34m]\u001b[0m\u001b[0;34m,\u001b[0m \u001b[0mbatch_size\u001b[0m\u001b[0;34m=\u001b[0m\u001b[0;36m16\u001b[0m\u001b[0;34m,\u001b[0m \u001b[0mnum_experiments\u001b[0m\u001b[0;34m=\u001b[0m\u001b[0;36m200\u001b[0m\u001b[0;34m,\u001b[0m \u001b[0mtrain_from_pretrained_model\u001b[0m\u001b[0;34m=\u001b[0m\u001b[0;34m\"pretrained-yolov3.h5\"\u001b[0m\u001b[0;34m)\u001b[0m\u001b[0;34m\u001b[0m\u001b[0;34m\u001b[0m\u001b[0m\n\u001b[0m\u001b[1;32m      7\u001b[0m \u001b[0mtrainer\u001b[0m\u001b[0;34m.\u001b[0m\u001b[0mtrainModel\u001b[0m\u001b[0;34m(\u001b[0m\u001b[0;34m)\u001b[0m\u001b[0;34m\u001b[0m\u001b[0;34m\u001b[0m\u001b[0m\n",
      "\u001b[0;32m~/anaconda3/lib/python3.7/site-packages/imageai/Detection/Custom/__init__.py\u001b[0m in \u001b[0;36msetTrainConfig\u001b[0;34m(self, object_names_array, batch_size, num_experiments, train_from_pretrained_model)\u001b[0m\n\u001b[1;32m    169\u001b[0m         self.__model_anchors, self.__inference_anchors = generateAnchors(self.__train_annotations_folder,\n\u001b[1;32m    170\u001b[0m                                                                           \u001b[0mself\u001b[0m\u001b[0;34m.\u001b[0m\u001b[0m__train_images_folder\u001b[0m\u001b[0;34m,\u001b[0m\u001b[0;34m\u001b[0m\u001b[0;34m\u001b[0m\u001b[0m\n\u001b[0;32m--> 171\u001b[0;31m                                                                           self.__train_cache_file, self.__model_labels)\n\u001b[0m\u001b[1;32m    172\u001b[0m \u001b[0;34m\u001b[0m\u001b[0m\n\u001b[1;32m    173\u001b[0m         \u001b[0mself\u001b[0m\u001b[0;34m.\u001b[0m\u001b[0m__model_labels\u001b[0m \u001b[0;34m=\u001b[0m \u001b[0msorted\u001b[0m\u001b[0;34m(\u001b[0m\u001b[0mobject_names_array\u001b[0m\u001b[0;34m)\u001b[0m\u001b[0;34m\u001b[0m\u001b[0;34m\u001b[0m\u001b[0m\n",
      "\u001b[0;32m~/anaconda3/lib/python3.7/site-packages/imageai/Detection/Custom/gen_anchors.py\u001b[0m in \u001b[0;36mgenerateAnchors\u001b[0;34m(train_annotation_folder, train_image_folder, train_cache_file, model_labels)\u001b[0m\n\u001b[1;32m     80\u001b[0m         \u001b[0mtrain_image_folder\u001b[0m\u001b[0;34m,\u001b[0m\u001b[0;34m\u001b[0m\u001b[0;34m\u001b[0m\u001b[0m\n\u001b[1;32m     81\u001b[0m         \u001b[0mtrain_cache_file\u001b[0m\u001b[0;34m,\u001b[0m\u001b[0;34m\u001b[0m\u001b[0;34m\u001b[0m\u001b[0m\n\u001b[0;32m---> 82\u001b[0;31m         \u001b[0mmodel_labels\u001b[0m\u001b[0;34m\u001b[0m\u001b[0;34m\u001b[0m\u001b[0m\n\u001b[0m\u001b[1;32m     83\u001b[0m     )\n\u001b[1;32m     84\u001b[0m \u001b[0;34m\u001b[0m\u001b[0m\n",
      "\u001b[0;32m~/anaconda3/lib/python3.7/site-packages/imageai/Detection/Custom/voc.py\u001b[0m in \u001b[0;36mparse_voc_annotation\u001b[0;34m(ann_dir, img_dir, cache_name, labels)\u001b[0m\n\u001b[1;32m     13\u001b[0m         \u001b[0mseen_labels\u001b[0m \u001b[0;34m=\u001b[0m \u001b[0mdict\u001b[0m\u001b[0;34m(\u001b[0m\u001b[0;34m)\u001b[0m\u001b[0;34m\u001b[0m\u001b[0;34m\u001b[0m\u001b[0m\n\u001b[1;32m     14\u001b[0m \u001b[0;34m\u001b[0m\u001b[0m\n\u001b[0;32m---> 15\u001b[0;31m         \u001b[0;32mfor\u001b[0m \u001b[0mann\u001b[0m \u001b[0;32min\u001b[0m \u001b[0msorted\u001b[0m\u001b[0;34m(\u001b[0m\u001b[0mos\u001b[0m\u001b[0;34m.\u001b[0m\u001b[0mlistdir\u001b[0m\u001b[0;34m(\u001b[0m\u001b[0mann_dir\u001b[0m\u001b[0;34m)\u001b[0m\u001b[0;34m)\u001b[0m\u001b[0;34m:\u001b[0m\u001b[0;34m\u001b[0m\u001b[0;34m\u001b[0m\u001b[0m\n\u001b[0m\u001b[1;32m     16\u001b[0m             \u001b[0mimg\u001b[0m \u001b[0;34m=\u001b[0m \u001b[0;34m{\u001b[0m\u001b[0;34m'object'\u001b[0m\u001b[0;34m:\u001b[0m \u001b[0mlist\u001b[0m\u001b[0;34m(\u001b[0m\u001b[0;34m)\u001b[0m\u001b[0;34m}\u001b[0m\u001b[0;34m\u001b[0m\u001b[0;34m\u001b[0m\u001b[0m\n\u001b[1;32m     17\u001b[0m \u001b[0;34m\u001b[0m\u001b[0m\n",
      "\u001b[0;31mFileNotFoundError\u001b[0m: [Errno 2] No such file or directory: 'your_dataset_path/train/annotations'"
     ]
    }
   ],
   "source": [
    "from imageai.Detection.Custom import DetectionModelTrainer\n",
    "\n",
    "trainer = DetectionModelTrainer()\n",
    "trainer.setModelTypeAsYOLOv3()\n",
    "trainer.setDataDirectory(data_directory=\"your_dataset_path\")\n",
    "trainer.setTrainConfig(object_names_array=[\"obj1\", \"obj2\"], batch_size=16, num_experiments=200, train_from_pretrained_model=\"pretrained-yolov3.h5\")\n",
    "trainer.trainModel()"
   ]
  },
  {
   "cell_type": "code",
   "execution_count": 146,
   "metadata": {},
   "outputs": [
    {
     "ename": "FileNotFoundError",
     "evalue": "[Errno 2] No such file or directory: 'data/json/detection_config.json'",
     "output_type": "error",
     "traceback": [
      "\u001b[0;31m---------------------------------------------------------------------------\u001b[0m",
      "\u001b[0;31mFileNotFoundError\u001b[0m                         Traceback (most recent call last)",
      "\u001b[0;32m<ipython-input-146-10a23e75d3f4>\u001b[0m in \u001b[0;36m<module>\u001b[0;34m\u001b[0m\n\u001b[1;32m      8\u001b[0m                                 \u001b[0miou_threshold\u001b[0m\u001b[0;34m=\u001b[0m\u001b[0;36m0.5\u001b[0m\u001b[0;34m,\u001b[0m\u001b[0;34m\u001b[0m\u001b[0;34m\u001b[0m\u001b[0m\n\u001b[1;32m      9\u001b[0m                                 \u001b[0mobject_threshold\u001b[0m\u001b[0;34m=\u001b[0m\u001b[0;36m0.9\u001b[0m\u001b[0;34m,\u001b[0m\u001b[0;34m\u001b[0m\u001b[0;34m\u001b[0m\u001b[0m\n\u001b[0;32m---> 10\u001b[0;31m                                 nms_threshold=0.5)\n\u001b[0m",
      "\u001b[0;32m~/anaconda3/lib/python3.7/site-packages/imageai/Detection/Custom/__init__.py\u001b[0m in \u001b[0;36mevaluateModel\u001b[0;34m(self, model_path, json_path, batch_size, iou_threshold, object_threshold, nms_threshold)\u001b[0m\n\u001b[1;32m    314\u001b[0m \u001b[0;34m\u001b[0m\u001b[0m\n\u001b[1;32m    315\u001b[0m         \u001b[0mself\u001b[0m\u001b[0;34m.\u001b[0m\u001b[0m__training_mode\u001b[0m \u001b[0;34m=\u001b[0m \u001b[0;32mFalse\u001b[0m\u001b[0;34m\u001b[0m\u001b[0;34m\u001b[0m\u001b[0m\n\u001b[0;32m--> 316\u001b[0;31m         \u001b[0mdetection_model_json\u001b[0m \u001b[0;34m=\u001b[0m \u001b[0mjson\u001b[0m\u001b[0;34m.\u001b[0m\u001b[0mload\u001b[0m\u001b[0;34m(\u001b[0m\u001b[0mopen\u001b[0m\u001b[0;34m(\u001b[0m\u001b[0mjson_path\u001b[0m\u001b[0;34m)\u001b[0m\u001b[0;34m)\u001b[0m\u001b[0;34m\u001b[0m\u001b[0;34m\u001b[0m\u001b[0m\n\u001b[0m\u001b[1;32m    317\u001b[0m \u001b[0;34m\u001b[0m\u001b[0m\n\u001b[1;32m    318\u001b[0m         \u001b[0mtemp_anchor_array\u001b[0m \u001b[0;34m=\u001b[0m \u001b[0;34m[\u001b[0m\u001b[0;34m]\u001b[0m\u001b[0;34m\u001b[0m\u001b[0;34m\u001b[0m\u001b[0m\n",
      "\u001b[0;31mFileNotFoundError\u001b[0m: [Errno 2] No such file or directory: 'data/json/detection_config.json'"
     ]
    }
   ],
   "source": [
    "from imageai.Detection.Custom import DetectionModelTrainer\n",
    "\n",
    "trainer = DetectionModelTrainer()\n",
    "trainer.setModelTypeAsYOLOv3()\n",
    "trainer.setDataDirectory(data_directory=\"data\")\n",
    "metrics = trainer.evaluateModel(model_path=\"data/models\", \n",
    "                                json_path=\"data/json/detection_config.json\", \n",
    "                                iou_threshold=0.5, \n",
    "                                object_threshold=0.9, \n",
    "                                nms_threshold=0.5)\n"
   ]
  },
  {
   "cell_type": "code",
   "execution_count": 147,
   "metadata": {},
   "outputs": [
    {
     "ename": "FileNotFoundError",
     "evalue": "[Errno 2] No such file or directory: 'detection_config.json'",
     "output_type": "error",
     "traceback": [
      "\u001b[0;31m---------------------------------------------------------------------------\u001b[0m",
      "\u001b[0;31mFileNotFoundError\u001b[0m                         Traceback (most recent call last)",
      "\u001b[0;32m<ipython-input-147-79a6009b2734>\u001b[0m in \u001b[0;36m<module>\u001b[0;34m\u001b[0m\n\u001b[1;32m      5\u001b[0m \u001b[0mdetector\u001b[0m\u001b[0;34m.\u001b[0m\u001b[0msetModelPath\u001b[0m\u001b[0;34m(\u001b[0m\u001b[0;34m\"detection_model-ex-006--loss-0024.905.h5\"\u001b[0m\u001b[0;34m)\u001b[0m\u001b[0;34m\u001b[0m\u001b[0;34m\u001b[0m\u001b[0m\n\u001b[1;32m      6\u001b[0m \u001b[0mdetector\u001b[0m\u001b[0;34m.\u001b[0m\u001b[0msetJsonPath\u001b[0m\u001b[0;34m(\u001b[0m\u001b[0;34m\"detection_config.json\"\u001b[0m\u001b[0;34m)\u001b[0m\u001b[0;34m\u001b[0m\u001b[0;34m\u001b[0m\u001b[0m\n\u001b[0;32m----> 7\u001b[0;31m \u001b[0mdetector\u001b[0m\u001b[0;34m.\u001b[0m\u001b[0mloadModel\u001b[0m\u001b[0;34m(\u001b[0m\u001b[0;34m)\u001b[0m\u001b[0;34m\u001b[0m\u001b[0;34m\u001b[0m\u001b[0m\n\u001b[0m\u001b[1;32m      8\u001b[0m \u001b[0mdetections\u001b[0m \u001b[0;34m=\u001b[0m \u001b[0mdetector\u001b[0m\u001b[0;34m.\u001b[0m\u001b[0mdetectObjectsFromImage\u001b[0m\u001b[0;34m(\u001b[0m\u001b[0minput_image\u001b[0m\u001b[0;34m=\u001b[0m\u001b[0;34m\"ima.jpg\"\u001b[0m\u001b[0;34m,\u001b[0m \u001b[0moutput_image_path\u001b[0m\u001b[0;34m=\u001b[0m\u001b[0;34m\"ima-detected.jpg\"\u001b[0m\u001b[0;34m,\u001b[0m \u001b[0mminimum_percentage_probability\u001b[0m\u001b[0;34m=\u001b[0m\u001b[0;36m90\u001b[0m\u001b[0;34m)\u001b[0m\u001b[0;34m\u001b[0m\u001b[0;34m\u001b[0m\u001b[0m\n",
      "\u001b[0;32m~/anaconda3/lib/python3.7/site-packages/imageai/Detection/Custom/__init__.py\u001b[0m in \u001b[0;36mloadModel\u001b[0;34m(self)\u001b[0m\n\u001b[1;32m    640\u001b[0m \u001b[0;34m\u001b[0m\u001b[0m\n\u001b[1;32m    641\u001b[0m         \u001b[0;32mif\u001b[0m \u001b[0mself\u001b[0m\u001b[0;34m.\u001b[0m\u001b[0m__model_type\u001b[0m \u001b[0;34m==\u001b[0m \u001b[0;34m\"yolov3\"\u001b[0m\u001b[0;34m:\u001b[0m\u001b[0;34m\u001b[0m\u001b[0;34m\u001b[0m\u001b[0m\n\u001b[0;32m--> 642\u001b[0;31m             \u001b[0mdetection_model_json\u001b[0m \u001b[0;34m=\u001b[0m \u001b[0mjson\u001b[0m\u001b[0;34m.\u001b[0m\u001b[0mload\u001b[0m\u001b[0;34m(\u001b[0m\u001b[0mopen\u001b[0m\u001b[0;34m(\u001b[0m\u001b[0mself\u001b[0m\u001b[0;34m.\u001b[0m\u001b[0m__detection_config_json_path\u001b[0m\u001b[0;34m)\u001b[0m\u001b[0;34m)\u001b[0m\u001b[0;34m\u001b[0m\u001b[0;34m\u001b[0m\u001b[0m\n\u001b[0m\u001b[1;32m    643\u001b[0m \u001b[0;34m\u001b[0m\u001b[0m\n\u001b[1;32m    644\u001b[0m             \u001b[0mself\u001b[0m\u001b[0;34m.\u001b[0m\u001b[0m__model_labels\u001b[0m \u001b[0;34m=\u001b[0m \u001b[0mdetection_model_json\u001b[0m\u001b[0;34m[\u001b[0m\u001b[0;34m\"labels\"\u001b[0m\u001b[0;34m]\u001b[0m\u001b[0;34m\u001b[0m\u001b[0;34m\u001b[0m\u001b[0m\n",
      "\u001b[0;31mFileNotFoundError\u001b[0m: [Errno 2] No such file or directory: 'detection_config.json'"
     ]
    }
   ],
   "source": [
    "from imageai.Detection.Custom import CustomObjectDetection\n",
    "\n",
    "detector = CustomObjectDetection()\n",
    "detector.setModelTypeAsYOLOv3()\n",
    "detector.setModelPath(\"detection_model-ex-006--loss-0024.905.h5\")\n",
    "detector.setJsonPath(\"detection_config.json\")\n",
    "detector.loadModel()\n",
    "detections = detector.detectObjectsFromImage(input_image=\"ima.jpg\", output_image_path=\"ima-detected.jpg\", minimum_percentage_probability=90)"
   ]
  },
  {
   "cell_type": "code",
   "execution_count": null,
   "metadata": {},
   "outputs": [],
   "source": []
  },
  {
   "cell_type": "code",
   "execution_count": null,
   "metadata": {},
   "outputs": [],
   "source": []
  }
 ],
 "metadata": {
  "kernelspec": {
   "display_name": "Python 3",
   "language": "python",
   "name": "python3"
  },
  "language_info": {
   "codemirror_mode": {
    "name": "ipython",
    "version": 3
   },
   "file_extension": ".py",
   "mimetype": "text/x-python",
   "name": "python",
   "nbconvert_exporter": "python",
   "pygments_lexer": "ipython3",
   "version": "3.7.4"
  }
 },
 "nbformat": 4,
 "nbformat_minor": 2
}
